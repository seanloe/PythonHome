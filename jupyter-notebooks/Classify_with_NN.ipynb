{
 "cells": [
  {
   "cell_type": "markdown",
   "metadata": {},
   "source": [
    "# Classification Using neuron network"
   ]
  },
  {
   "cell_type": "code",
   "execution_count": 7,
   "metadata": {},
   "outputs": [],
   "source": [
    "from sklearn import datasets\n",
    "import matplotlib.pyplot as plt\n",
    "import numpy as np\n",
    "import pandas as pd\n",
    "pd.set_option('max_row',1000)\n",
    "%matplotlib inline"
   ]
  },
  {
   "cell_type": "markdown",
   "metadata": {},
   "source": [
    "## Data Preparation"
   ]
  },
  {
   "cell_type": "code",
   "execution_count": 47,
   "metadata": {},
   "outputs": [],
   "source": [
    "from sklearn.preprocessing import StandardScaler\n",
    "iris = datasets.load_iris()\n",
    "df = pd.DataFrame(iris['data'], columns=iris['feature_names'])\n",
    "df2 = pd.DataFrame(iris['target'],columns=['target'])\n",
    "df = pd.concat([df,df2],axis=1)\n",
    "scaler = StandardScaler()\n",
    "df[iris['feature_names']] = scaler.fit_transform(df[iris['feature_names']])"
   ]
  },
  {
   "cell_type": "code",
   "execution_count": 48,
   "metadata": {},
   "outputs": [
    {
     "data": {
      "text/plain": [
       "<seaborn.axisgrid.FacetGrid at 0x258ac64d780>"
      ]
     },
     "execution_count": 48,
     "metadata": {},
     "output_type": "execute_result"
    },
    {
     "data": {
      "image/png": "[encoded data removed]",
      "text/plain": [
       "<Figure size 402.375x360 with 1 Axes>"
      ]
     },
     "metadata": {},
     "output_type": "display_data"
    },
    {
     "data": {
      "image/png": "[encoded data removed]",
      "text/plain": [
       "<Figure size 402.375x360 with 1 Axes>"
      ]
     },
     "metadata": {},
     "output_type": "display_data"
    }
   ],
   "source": [
    "import seaborn as sns\n",
    "sns.lmplot(x='sepal length (cm)', y = 'sepal width (cm)', hue='target',data=df,fit_reg=False)\n",
    "sns.lmplot(x='petal length (cm)', y = 'petal width (cm)', hue='target',data=df,fit_reg=False)"
   ]
  },
  {
   "cell_type": "code",
   "execution_count": 57,
   "metadata": {},
   "outputs": [
    {
     "name": "stdout",
     "output_type": "stream",
     "text": [
      "(120, 3)\n",
      "(30, 3)\n"
     ]
    }
   ],
   "source": [
    "from sklearn.model_selection import train_test_split\n",
    "from keras.utils import np_utils\n",
    "train_X,test_X,train_Y,test_Y = train_test_split(df[iris['feature_names']],df['target'],test_size=0.2,random_state=0)\n",
    "\n",
    "train_Y = np_utils.to_categorical(train_Y,num_classes=3)\n",
    "test_Y = np_utils.to_categorical(test_Y,num_classes=3)\n",
    "print(train_Y.shape)\n",
    "print(test_Y.shape)"
   ]
  },
  {
   "cell_type": "markdown",
   "metadata": {},
   "source": [
    "## Build Up Model"
   ]
  },
  {
   "cell_type": "code",
   "execution_count": 58,
   "metadata": {},
   "outputs": [
    {
     "name": "stdout",
     "output_type": "stream",
     "text": [
      "_________________________________________________________________\n",
      "Layer (type)                 Output Shape              Param #   \n",
      "=================================================================\n",
      "dense_73 (Dense)             (None, 100)               500       \n",
      "_________________________________________________________________\n",
      "dense_74 (Dense)             (None, 50)                5050      \n",
      "_________________________________________________________________\n",
      "dense_75 (Dense)             (None, 30)                1530      \n",
      "_________________________________________________________________\n",
      "dense_76 (Dense)             (None, 3)                 93        \n",
      "=================================================================\n",
      "Total params: 7,173\n",
      "Trainable params: 7,173\n",
      "Non-trainable params: 0\n",
      "_________________________________________________________________\n"
     ]
    }
   ],
   "source": [
    "from keras.models import Sequential\n",
    "from keras.layers import Dense\n",
    "model = Sequential()\n",
    "model.add(Dense(100, input_dim=4,activation='relu'))\n",
    "model.add(Dense(50,activation='relu'))\n",
    "model.add(Dense(30,activation='relu'))\n",
    "model.add(Dense(3,activation='softmax'))\n",
    "\n",
    "model.compile(loss='categorical_crossentropy',optimizer='adam',metrics=['accuracy'])\n",
    "model.summary()"
   ]
  },
  {
   "cell_type": "markdown",
   "metadata": {},
   "source": [
    "## Training"
   ]
  },
  {
   "cell_type": "code",
   "execution_count": 59,
   "metadata": {},
   "outputs": [
    {
     "name": "stdout",
     "output_type": "stream",
     "text": [
      "Epoch 1/10\n",
      "120/120 [==============================] - 0s 4ms/step - loss: 1.0628 - acc: 0.5250\n",
      "Epoch 2/10\n",
      "120/120 [==============================] - 0s 91us/step - loss: 0.9225 - acc: 0.8000\n",
      "Epoch 3/10\n",
      "120/120 [==============================] - 0s 83us/step - loss: 0.8026 - acc: 0.8583\n",
      "Epoch 4/10\n",
      "120/120 [==============================] - 0s 83us/step - loss: 0.6909 - acc: 0.8667\n",
      "Epoch 5/10\n",
      "120/120 [==============================] - 0s 91us/step - loss: 0.5920 - acc: 0.8500\n",
      "Epoch 6/10\n",
      "120/120 [==============================] - 0s 91us/step - loss: 0.5086 - acc: 0.8667\n",
      "Epoch 7/10\n",
      "120/120 [==============================] - 0s 67us/step - loss: 0.4494 - acc: 0.8750\n",
      "Epoch 8/10\n",
      "120/120 [==============================] - 0s 75us/step - loss: 0.4028 - acc: 0.8750\n",
      "Epoch 9/10\n",
      "120/120 [==============================] - 0s 92us/step - loss: 0.3614 - acc: 0.8667\n",
      "Epoch 10/10\n",
      "120/120 [==============================] - 0s 74us/step - loss: 0.3266 - acc: 0.8667\n",
      "76.66666666666667\n"
     ]
    }
   ],
   "source": [
    "model.fit(train_X,train_Y, batch_size=20, epochs=10)\n",
    "result = model.predict(test_X)\n",
    "result = np.argmax(result,axis=1)\n",
    "label = np.argmax(test_Y,axis=1)\n",
    "accu = np.sum(result==label)/len(result)*100\n",
    "print(accu)"
   ]
  }
 ],
 "metadata": {
  "kernelspec": {
   "display_name": "Python 3",
   "language": "python",
   "name": "python3"
  },
  "language_info": {
   "codemirror_mode": {
    "name": "ipython",
    "version": 3
   },
   "file_extension": ".py",
   "mimetype": "text/x-python",
   "name": "python",
   "nbconvert_exporter": "python",
   "pygments_lexer": "ipython3",
   "version": "3.5.4"
  }
 },
 "nbformat": 4,
 "nbformat_minor": 2
}
