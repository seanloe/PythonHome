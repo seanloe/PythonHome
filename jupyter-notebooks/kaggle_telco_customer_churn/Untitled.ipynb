{
 "cells": [
  {
   "cell_type": "markdown",
   "metadata": {},
   "source": [
    "# Telco customer churn"
   ]
  },
  {
   "cell_type": "code",
   "execution_count": 1,
   "metadata": {},
   "outputs": [],
   "source": [
    "import pandas as pd\n",
    "import seaborn as sns\n"
   ]
  },
  {
   "cell_type": "markdown",
   "metadata": {},
   "source": [
    "## import data sets"
   ]
  },
  {
   "cell_type": "code",
   "execution_count": 21,
   "metadata": {},
   "outputs": [
    {
     "data": {
      "text/plain": [
       "(7043, 21)"
      ]
     },
     "execution_count": 21,
     "metadata": {},
     "output_type": "execute_result"
    }
   ],
   "source": [
    "customer = pd.read_csv(\"WA_Fn-UseC_-Telco-Customer-Churn.csv\")\n",
    "customer.shape"
   ]
  },
  {
   "cell_type": "markdown",
   "metadata": {},
   "source": [
    "## Clean Data"
   ]
  },
  {
   "cell_type": "code",
   "execution_count": 22,
   "metadata": {},
   "outputs": [
    {
     "name": "stdout",
     "output_type": "stream",
     "text": [
      "customerID 0.00\n",
      "gender 0.00\n",
      "SeniorCitizen 0.00\n",
      "Partner 0.00\n",
      "Dependents 0.00\n",
      "tenure 0.00\n",
      "PhoneService 0.00\n",
      "MultipleLines 0.00\n",
      "InternetService 0.00\n",
      "OnlineSecurity 0.00\n",
      "OnlineBackup 0.00\n",
      "DeviceProtection 0.00\n",
      "TechSupport 0.00\n",
      "StreamingTV 0.00\n",
      "StreamingMovies 0.00\n",
      "Contract 0.00\n",
      "PaperlessBilling 0.00\n",
      "PaymentMethod 0.00\n",
      "MonthlyCharges 0.00\n",
      "TotalCharges 0.00\n",
      "Churn 0.00\n"
     ]
    }
   ],
   "source": [
    "#check for NaN distribution\n",
    "for col in customer.columns:\n",
    "    percent = customer[col].isnull().sum()/len(customer[col])\n",
    "    print(\"%s %.2f\"%(col,percent))\n",
    "#ok seems no NaN found\n",
    "target = customer.Churn\n",
    "customer = customer.drop(\"Churn\", axis=1)\n",
    "length = len(customer)"
   ]
  },
  {
   "cell_type": "code",
   "execution_count": 23,
   "metadata": {},
   "outputs": [
    {
     "name": "stdout",
     "output_type": "stream",
     "text": [
      "['customerID', 'gender', 'Partner', 'Dependents', 'PhoneService', 'MultipleLines', 'InternetService', 'OnlineSecurity', 'OnlineBackup', 'DeviceProtection', 'TechSupport', 'StreamingTV', 'StreamingMovies', 'Contract', 'PaperlessBilling', 'PaymentMethod', 'TotalCharges']\n",
      "customerID :7043/7043\n",
      "gender :2/7043\n",
      "Partner :2/7043\n",
      "Dependents :2/7043\n",
      "PhoneService :2/7043\n",
      "MultipleLines :3/7043\n",
      "InternetService :3/7043\n",
      "OnlineSecurity :3/7043\n",
      "OnlineBackup :3/7043\n",
      "DeviceProtection :3/7043\n",
      "TechSupport :3/7043\n",
      "StreamingTV :3/7043\n",
      "StreamingMovies :3/7043\n",
      "Contract :3/7043\n",
      "PaperlessBilling :2/7043\n",
      "PaymentMethod :4/7043\n",
      "TotalCharges :6531/7043\n"
     ]
    }
   ],
   "source": [
    "#print(customer.dtypes)\n",
    "#for those with object dtype check variation >.5\n",
    "categorical_col = [ i for i in customer.dtypes.index if customer.dtypes[i] =='O']\n",
    "print(categorical_col)\n",
    "for col in categorical_col:\n",
    "    print(\"%s :%d/%d\"%(col,len(customer[col].unique()),length))\n",
    "#ok we got 2 customerID obviously useless for training but TotalCharges which should be tranform to numerical"
   ]
  },
  {
   "cell_type": "code",
   "execution_count": 24,
   "metadata": {},
   "outputs": [],
   "source": [
    "customer = customer.drop(\"customerID\", axis=1)\n",
    "\n",
    "#customer['TotalCharges'] = customer['TotalCharges'].astype(\"float64\")"
   ]
  },
  {
   "cell_type": "code",
   "execution_count": 25,
   "metadata": {},
   "outputs": [
    {
     "name": "stderr",
     "output_type": "stream",
     "text": [
      "c:\\users\\sean\\appdata\\local\\programs\\python\\python35\\lib\\site-packages\\ipykernel_launcher.py:6: SettingWithCopyWarning: \n",
      "A value is trying to be set on a copy of a slice from a DataFrame\n",
      "\n",
      "See the caveats in the documentation: http://pandas.pydata.org/pandas-docs/stable/indexing.html#indexing-view-versus-copy\n",
      "  \n"
     ]
    },
    {
     "name": "stdout",
     "output_type": "stream",
     "text": [
      "line:488 str: \n"
     ]
    },
    {
     "name": "stderr",
     "output_type": "stream",
     "text": [
      "c:\\users\\sean\\appdata\\local\\programs\\python\\python35\\lib\\site-packages\\ipykernel_launcher.py:9: SettingWithCopyWarning: \n",
      "A value is trying to be set on a copy of a slice from a DataFrame\n",
      "\n",
      "See the caveats in the documentation: http://pandas.pydata.org/pandas-docs/stable/indexing.html#indexing-view-versus-copy\n",
      "  if __name__ == '__main__':\n"
     ]
    },
    {
     "name": "stdout",
     "output_type": "stream",
     "text": [
      "line:753 str: \n",
      "line:936 str: \n",
      "line:1082 str: \n",
      "line:1340 str: \n",
      "line:3331 str: \n",
      "line:3826 str: \n",
      "line:4380 str: \n",
      "line:5218 str: \n",
      "line:6670 str: \n",
      "line:6754 str: \n",
      "finished\n"
     ]
    }
   ],
   "source": [
    "#can directly convert TogtalCharges to float32 since it contains some item not numerical\n",
    "#customer['TotalCharges'] = customer['TotalCharges'].astype(\"float64\")\n",
    "\n",
    "for i, tup in enumerate(customer['TotalCharges']):\n",
    "    try:\n",
    "        customer['TotalCharges'][i] = float(tup)\n",
    "    except ValueError:\n",
    "        print(\"line:%d str:%s\"%(i,tup))\n",
    "        customer['TotalCharges'][i] = float(0)\n",
    "print(\"finished\")"
   ]
  },
  {
   "cell_type": "code",
   "execution_count": 26,
   "metadata": {},
   "outputs": [
    {
     "data": {
      "text/plain": [
       "gender               object\n",
       "SeniorCitizen         int64\n",
       "Partner              object\n",
       "Dependents           object\n",
       "tenure                int64\n",
       "PhoneService         object\n",
       "MultipleLines        object\n",
       "InternetService      object\n",
       "OnlineSecurity       object\n",
       "OnlineBackup         object\n",
       "DeviceProtection     object\n",
       "TechSupport          object\n",
       "StreamingTV          object\n",
       "StreamingMovies      object\n",
       "Contract             object\n",
       "PaperlessBilling     object\n",
       "PaymentMethod        object\n",
       "MonthlyCharges      float64\n",
       "TotalCharges        float64\n",
       "dtype: object"
      ]
     },
     "execution_count": 26,
     "metadata": {},
     "output_type": "execute_result"
    }
   ],
   "source": [
    "customer['TotalCharges'] = customer['TotalCharges'].astype(\"float64\")\n",
    "customer.dtypes"
   ]
  }
 ],
 "metadata": {
  "kernelspec": {
   "display_name": "Python 3",
   "language": "python",
   "name": "python3"
  },
  "language_info": {
   "codemirror_mode": {
    "name": "ipython",
    "version": 3
   },
   "file_extension": ".py",
   "mimetype": "text/x-python",
   "name": "python",
   "nbconvert_exporter": "python",
   "pygments_lexer": "ipython3",
   "version": "3.5.4"
  }
 },
 "nbformat": 4,
 "nbformat_minor": 2
}
